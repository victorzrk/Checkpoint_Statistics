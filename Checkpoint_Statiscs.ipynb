{
 "cells": [
  {
   "cell_type": "markdown",
   "metadata": {
    "id": "MVYnsCKTRFt7"
   },
   "source": [
    "# Checkpoint 1"
   ]
  },
  {
   "cell_type": "markdown",
   "metadata": {
    "id": "VB6rsGNoRIEs"
   },
   "source": [
    "## Carregar módulos"
   ]
  },
  {
   "cell_type": "code",
   "execution_count": 273,
   "metadata": {
    "executionInfo": {
     "elapsed": 1781,
     "status": "ok",
     "timestamp": 1710845799675,
     "user": {
      "displayName": "Neto Alcides",
      "userId": "13364792603978952311"
     },
     "user_tz": 180
    },
    "id": "IRai7_OaRIJQ"
   },
   "outputs": [],
   "source": [
    "import numpy as np\n",
    "import pandas as pd\n",
    "import matplotlib.pyplot as plt\n",
    "%matplotlib inline\n",
    "import seaborn as sns"
   ]
  },
  {
   "cell_type": "markdown",
   "metadata": {
    "id": "KOHsl-KNRINm"
   },
   "source": [
    "## Carregar dados"
   ]
  },
  {
   "cell_type": "code",
   "execution_count": 274,
   "metadata": {
    "executionInfo": {
     "elapsed": 9,
     "status": "ok",
     "timestamp": 1710845799675,
     "user": {
      "displayName": "Neto Alcides",
      "userId": "13364792603978952311"
     },
     "user_tz": 180
    },
    "id": "bKE4njwDRIRm"
   },
   "outputs": [],
   "source": [
    "path = 'https://raw.githubusercontent.com/CSSEGISandData/COVID-19/master/csse_covid_19_data/csse_covid_19_time_series/time_series_covid19_confirmed_global.csv'\n",
    "path_dead =  'https://raw.githubusercontent.com/CSSEGISandData/COVID-19/master/csse_covid_19_data/csse_covid_19_time_series/time_series_covid19_deaths_global.csv'"
   ]
  },
  {
   "cell_type": "code",
   "execution_count": 275,
   "metadata": {
    "executionInfo": {
     "elapsed": 3,
     "status": "ok",
     "timestamp": 1710845804890,
     "user": {
      "displayName": "Neto Alcides",
      "userId": "13364792603978952311"
     },
     "user_tz": 180
    },
    "id": "Pb1mQyrlRIVv"
   },
   "outputs": [],
   "source": [
    "dados_paises_covid = pd.read_csv(path)\n",
    "dados_paises_covid_dead = pd.read_csv(path_dead)"
   ]
  },
  {
   "cell_type": "code",
   "execution_count": 276,
   "metadata": {
    "colab": {
     "base_uri": "https://localhost:8080/",
     "height": 478
    },
    "executionInfo": {
     "elapsed": 6,
     "status": "ok",
     "timestamp": 1710845807087,
     "user": {
      "displayName": "Neto Alcides",
      "userId": "13364792603978952311"
     },
     "user_tz": 180
    },
    "id": "bxzV_0QVFi29",
    "outputId": "0fa0b13d-09ca-4403-b485-606e63b548ae"
   },
   "outputs": [
    {
     "data": {
      "text/html": [
       "<div>\n",
       "<style scoped>\n",
       "    .dataframe tbody tr th:only-of-type {\n",
       "        vertical-align: middle;\n",
       "    }\n",
       "\n",
       "    .dataframe tbody tr th {\n",
       "        vertical-align: top;\n",
       "    }\n",
       "\n",
       "    .dataframe thead th {\n",
       "        text-align: right;\n",
       "    }\n",
       "</style>\n",
       "<table border=\"1\" class=\"dataframe\">\n",
       "  <thead>\n",
       "    <tr style=\"text-align: right;\">\n",
       "      <th></th>\n",
       "      <th>Province/State</th>\n",
       "      <th>Country/Region</th>\n",
       "      <th>Lat</th>\n",
       "      <th>Long</th>\n",
       "      <th>1/22/20</th>\n",
       "      <th>1/23/20</th>\n",
       "      <th>1/24/20</th>\n",
       "      <th>1/25/20</th>\n",
       "      <th>1/26/20</th>\n",
       "      <th>1/27/20</th>\n",
       "      <th>...</th>\n",
       "      <th>2/28/23</th>\n",
       "      <th>3/1/23</th>\n",
       "      <th>3/2/23</th>\n",
       "      <th>3/3/23</th>\n",
       "      <th>3/4/23</th>\n",
       "      <th>3/5/23</th>\n",
       "      <th>3/6/23</th>\n",
       "      <th>3/7/23</th>\n",
       "      <th>3/8/23</th>\n",
       "      <th>3/9/23</th>\n",
       "    </tr>\n",
       "  </thead>\n",
       "  <tbody>\n",
       "    <tr>\n",
       "      <th>0</th>\n",
       "      <td>NaN</td>\n",
       "      <td>Afghanistan</td>\n",
       "      <td>33.939110</td>\n",
       "      <td>67.709953</td>\n",
       "      <td>0</td>\n",
       "      <td>0</td>\n",
       "      <td>0</td>\n",
       "      <td>0</td>\n",
       "      <td>0</td>\n",
       "      <td>0</td>\n",
       "      <td>...</td>\n",
       "      <td>209322</td>\n",
       "      <td>209340</td>\n",
       "      <td>209358</td>\n",
       "      <td>209362</td>\n",
       "      <td>209369</td>\n",
       "      <td>209390</td>\n",
       "      <td>209406</td>\n",
       "      <td>209436</td>\n",
       "      <td>209451</td>\n",
       "      <td>209451</td>\n",
       "    </tr>\n",
       "    <tr>\n",
       "      <th>1</th>\n",
       "      <td>NaN</td>\n",
       "      <td>Albania</td>\n",
       "      <td>41.153300</td>\n",
       "      <td>20.168300</td>\n",
       "      <td>0</td>\n",
       "      <td>0</td>\n",
       "      <td>0</td>\n",
       "      <td>0</td>\n",
       "      <td>0</td>\n",
       "      <td>0</td>\n",
       "      <td>...</td>\n",
       "      <td>334391</td>\n",
       "      <td>334408</td>\n",
       "      <td>334408</td>\n",
       "      <td>334427</td>\n",
       "      <td>334427</td>\n",
       "      <td>334427</td>\n",
       "      <td>334427</td>\n",
       "      <td>334427</td>\n",
       "      <td>334443</td>\n",
       "      <td>334457</td>\n",
       "    </tr>\n",
       "    <tr>\n",
       "      <th>2</th>\n",
       "      <td>NaN</td>\n",
       "      <td>Algeria</td>\n",
       "      <td>28.033900</td>\n",
       "      <td>1.659600</td>\n",
       "      <td>0</td>\n",
       "      <td>0</td>\n",
       "      <td>0</td>\n",
       "      <td>0</td>\n",
       "      <td>0</td>\n",
       "      <td>0</td>\n",
       "      <td>...</td>\n",
       "      <td>271441</td>\n",
       "      <td>271448</td>\n",
       "      <td>271463</td>\n",
       "      <td>271469</td>\n",
       "      <td>271469</td>\n",
       "      <td>271477</td>\n",
       "      <td>271477</td>\n",
       "      <td>271490</td>\n",
       "      <td>271494</td>\n",
       "      <td>271496</td>\n",
       "    </tr>\n",
       "    <tr>\n",
       "      <th>3</th>\n",
       "      <td>NaN</td>\n",
       "      <td>Andorra</td>\n",
       "      <td>42.506300</td>\n",
       "      <td>1.521800</td>\n",
       "      <td>0</td>\n",
       "      <td>0</td>\n",
       "      <td>0</td>\n",
       "      <td>0</td>\n",
       "      <td>0</td>\n",
       "      <td>0</td>\n",
       "      <td>...</td>\n",
       "      <td>47866</td>\n",
       "      <td>47875</td>\n",
       "      <td>47875</td>\n",
       "      <td>47875</td>\n",
       "      <td>47875</td>\n",
       "      <td>47875</td>\n",
       "      <td>47875</td>\n",
       "      <td>47875</td>\n",
       "      <td>47890</td>\n",
       "      <td>47890</td>\n",
       "    </tr>\n",
       "    <tr>\n",
       "      <th>4</th>\n",
       "      <td>NaN</td>\n",
       "      <td>Angola</td>\n",
       "      <td>-11.202700</td>\n",
       "      <td>17.873900</td>\n",
       "      <td>0</td>\n",
       "      <td>0</td>\n",
       "      <td>0</td>\n",
       "      <td>0</td>\n",
       "      <td>0</td>\n",
       "      <td>0</td>\n",
       "      <td>...</td>\n",
       "      <td>105255</td>\n",
       "      <td>105277</td>\n",
       "      <td>105277</td>\n",
       "      <td>105277</td>\n",
       "      <td>105277</td>\n",
       "      <td>105277</td>\n",
       "      <td>105277</td>\n",
       "      <td>105277</td>\n",
       "      <td>105288</td>\n",
       "      <td>105288</td>\n",
       "    </tr>\n",
       "    <tr>\n",
       "      <th>...</th>\n",
       "      <td>...</td>\n",
       "      <td>...</td>\n",
       "      <td>...</td>\n",
       "      <td>...</td>\n",
       "      <td>...</td>\n",
       "      <td>...</td>\n",
       "      <td>...</td>\n",
       "      <td>...</td>\n",
       "      <td>...</td>\n",
       "      <td>...</td>\n",
       "      <td>...</td>\n",
       "      <td>...</td>\n",
       "      <td>...</td>\n",
       "      <td>...</td>\n",
       "      <td>...</td>\n",
       "      <td>...</td>\n",
       "      <td>...</td>\n",
       "      <td>...</td>\n",
       "      <td>...</td>\n",
       "      <td>...</td>\n",
       "      <td>...</td>\n",
       "    </tr>\n",
       "    <tr>\n",
       "      <th>284</th>\n",
       "      <td>NaN</td>\n",
       "      <td>West Bank and Gaza</td>\n",
       "      <td>31.952200</td>\n",
       "      <td>35.233200</td>\n",
       "      <td>0</td>\n",
       "      <td>0</td>\n",
       "      <td>0</td>\n",
       "      <td>0</td>\n",
       "      <td>0</td>\n",
       "      <td>0</td>\n",
       "      <td>...</td>\n",
       "      <td>703228</td>\n",
       "      <td>703228</td>\n",
       "      <td>703228</td>\n",
       "      <td>703228</td>\n",
       "      <td>703228</td>\n",
       "      <td>703228</td>\n",
       "      <td>703228</td>\n",
       "      <td>703228</td>\n",
       "      <td>703228</td>\n",
       "      <td>703228</td>\n",
       "    </tr>\n",
       "    <tr>\n",
       "      <th>285</th>\n",
       "      <td>NaN</td>\n",
       "      <td>Winter Olympics 2022</td>\n",
       "      <td>39.904200</td>\n",
       "      <td>116.407400</td>\n",
       "      <td>0</td>\n",
       "      <td>0</td>\n",
       "      <td>0</td>\n",
       "      <td>0</td>\n",
       "      <td>0</td>\n",
       "      <td>0</td>\n",
       "      <td>...</td>\n",
       "      <td>535</td>\n",
       "      <td>535</td>\n",
       "      <td>535</td>\n",
       "      <td>535</td>\n",
       "      <td>535</td>\n",
       "      <td>535</td>\n",
       "      <td>535</td>\n",
       "      <td>535</td>\n",
       "      <td>535</td>\n",
       "      <td>535</td>\n",
       "    </tr>\n",
       "    <tr>\n",
       "      <th>286</th>\n",
       "      <td>NaN</td>\n",
       "      <td>Yemen</td>\n",
       "      <td>15.552727</td>\n",
       "      <td>48.516388</td>\n",
       "      <td>0</td>\n",
       "      <td>0</td>\n",
       "      <td>0</td>\n",
       "      <td>0</td>\n",
       "      <td>0</td>\n",
       "      <td>0</td>\n",
       "      <td>...</td>\n",
       "      <td>11945</td>\n",
       "      <td>11945</td>\n",
       "      <td>11945</td>\n",
       "      <td>11945</td>\n",
       "      <td>11945</td>\n",
       "      <td>11945</td>\n",
       "      <td>11945</td>\n",
       "      <td>11945</td>\n",
       "      <td>11945</td>\n",
       "      <td>11945</td>\n",
       "    </tr>\n",
       "    <tr>\n",
       "      <th>287</th>\n",
       "      <td>NaN</td>\n",
       "      <td>Zambia</td>\n",
       "      <td>-13.133897</td>\n",
       "      <td>27.849332</td>\n",
       "      <td>0</td>\n",
       "      <td>0</td>\n",
       "      <td>0</td>\n",
       "      <td>0</td>\n",
       "      <td>0</td>\n",
       "      <td>0</td>\n",
       "      <td>...</td>\n",
       "      <td>343012</td>\n",
       "      <td>343012</td>\n",
       "      <td>343079</td>\n",
       "      <td>343079</td>\n",
       "      <td>343079</td>\n",
       "      <td>343135</td>\n",
       "      <td>343135</td>\n",
       "      <td>343135</td>\n",
       "      <td>343135</td>\n",
       "      <td>343135</td>\n",
       "    </tr>\n",
       "    <tr>\n",
       "      <th>288</th>\n",
       "      <td>NaN</td>\n",
       "      <td>Zimbabwe</td>\n",
       "      <td>-19.015438</td>\n",
       "      <td>29.154857</td>\n",
       "      <td>0</td>\n",
       "      <td>0</td>\n",
       "      <td>0</td>\n",
       "      <td>0</td>\n",
       "      <td>0</td>\n",
       "      <td>0</td>\n",
       "      <td>...</td>\n",
       "      <td>263921</td>\n",
       "      <td>264127</td>\n",
       "      <td>264127</td>\n",
       "      <td>264127</td>\n",
       "      <td>264127</td>\n",
       "      <td>264127</td>\n",
       "      <td>264127</td>\n",
       "      <td>264127</td>\n",
       "      <td>264276</td>\n",
       "      <td>264276</td>\n",
       "    </tr>\n",
       "  </tbody>\n",
       "</table>\n",
       "<p>289 rows × 1147 columns</p>\n",
       "</div>"
      ],
      "text/plain": [
       "    Province/State        Country/Region        Lat        Long  1/22/20  \\\n",
       "0              NaN           Afghanistan  33.939110   67.709953        0   \n",
       "1              NaN               Albania  41.153300   20.168300        0   \n",
       "2              NaN               Algeria  28.033900    1.659600        0   \n",
       "3              NaN               Andorra  42.506300    1.521800        0   \n",
       "4              NaN                Angola -11.202700   17.873900        0   \n",
       "..             ...                   ...        ...         ...      ...   \n",
       "284            NaN    West Bank and Gaza  31.952200   35.233200        0   \n",
       "285            NaN  Winter Olympics 2022  39.904200  116.407400        0   \n",
       "286            NaN                 Yemen  15.552727   48.516388        0   \n",
       "287            NaN                Zambia -13.133897   27.849332        0   \n",
       "288            NaN              Zimbabwe -19.015438   29.154857        0   \n",
       "\n",
       "     1/23/20  1/24/20  1/25/20  1/26/20  1/27/20  ...  2/28/23  3/1/23  \\\n",
       "0          0        0        0        0        0  ...   209322  209340   \n",
       "1          0        0        0        0        0  ...   334391  334408   \n",
       "2          0        0        0        0        0  ...   271441  271448   \n",
       "3          0        0        0        0        0  ...    47866   47875   \n",
       "4          0        0        0        0        0  ...   105255  105277   \n",
       "..       ...      ...      ...      ...      ...  ...      ...     ...   \n",
       "284        0        0        0        0        0  ...   703228  703228   \n",
       "285        0        0        0        0        0  ...      535     535   \n",
       "286        0        0        0        0        0  ...    11945   11945   \n",
       "287        0        0        0        0        0  ...   343012  343012   \n",
       "288        0        0        0        0        0  ...   263921  264127   \n",
       "\n",
       "     3/2/23  3/3/23  3/4/23  3/5/23  3/6/23  3/7/23  3/8/23  3/9/23  \n",
       "0    209358  209362  209369  209390  209406  209436  209451  209451  \n",
       "1    334408  334427  334427  334427  334427  334427  334443  334457  \n",
       "2    271463  271469  271469  271477  271477  271490  271494  271496  \n",
       "3     47875   47875   47875   47875   47875   47875   47890   47890  \n",
       "4    105277  105277  105277  105277  105277  105277  105288  105288  \n",
       "..      ...     ...     ...     ...     ...     ...     ...     ...  \n",
       "284  703228  703228  703228  703228  703228  703228  703228  703228  \n",
       "285     535     535     535     535     535     535     535     535  \n",
       "286   11945   11945   11945   11945   11945   11945   11945   11945  \n",
       "287  343079  343079  343079  343135  343135  343135  343135  343135  \n",
       "288  264127  264127  264127  264127  264127  264127  264276  264276  \n",
       "\n",
       "[289 rows x 1147 columns]"
      ]
     },
     "execution_count": 276,
     "metadata": {},
     "output_type": "execute_result"
    }
   ],
   "source": [
    "dados_paises_covid"
   ]
  },
  {
   "cell_type": "markdown",
   "metadata": {
    "id": "0K9ECqiJRIZz"
   },
   "source": [
    "## Ajustes\n",
    "\n"
   ]
  },
  {
   "cell_type": "markdown",
   "metadata": {},
   "source": [
    "- Remover países sem sentido/inexistentes"
   ]
  },
  {
   "cell_type": "code",
   "execution_count": 277,
   "metadata": {},
   "outputs": [],
   "source": [
    "lista_paises = dados_paises_covid['Country/Region'].tolist()\n",
    "\n",
    "# print(lista_paises)\n",
    "\n",
    "# usarei o chatgpt para verificar o que não é um pais, pois a lista predefinida que utilizei\n",
    "# em testes anteriores elimina paises como \"Korean, north\" e esquecia de outros como \"US\"\n",
    "\n",
    "lista_nao_paises = [\"Antarctica\",\"Diamond Princess\",\"Holy See\",\"Kosovo\",\"MS Zaandam\",\"Summer Olympics 2020\",\"Taiwan*\",\"West Bank and Gaza\",\"Winter Olympics 2022\"]\n",
    "dados_paises_covid = dados_paises_covid[~dados_paises_covid['Country/Region'].isin(lista_nao_paises)]"
   ]
  },
  {
   "cell_type": "code",
   "execution_count": 305,
   "metadata": {},
   "outputs": [],
   "source": [
    "# Testes / Para lidar com erros, use o Run all ao inves de Run cell\n",
    "\n",
    "# print(lista_paises)\n",
    "# print(lista_nao_paises)\n",
    "# print(dados_paises_covid.columns)\n",
    "# print(dados_paises_covid['Country/Region'].unique())"
   ]
  },
  {
   "cell_type": "markdown",
   "metadata": {
    "id": "l-WQgrhUV8tq"
   },
   "source": [
    "- Nomes das colunas"
   ]
  },
  {
   "cell_type": "code",
   "execution_count": 279,
   "metadata": {
    "executionInfo": {
     "elapsed": 402,
     "status": "ok",
     "timestamp": 1710845875097,
     "user": {
      "displayName": "Neto Alcides",
      "userId": "13364792603978952311"
     },
     "user_tz": 180
    },
    "id": "SaCpjFuARIeA"
   },
   "outputs": [
    {
     "name": "stderr",
     "output_type": "stream",
     "text": [
      "C:\\Users\\zrkvi\\AppData\\Local\\Temp\\ipykernel_18308\\373085972.py:1: SettingWithCopyWarning: \n",
      "A value is trying to be set on a copy of a slice from a DataFrame\n",
      "\n",
      "See the caveats in the documentation: https://pandas.pydata.org/pandas-docs/stable/user_guide/indexing.html#returning-a-view-versus-a-copy\n",
      "  dados_paises_covid.rename(columns={\"Province/State\": \"province\",\n"
     ]
    }
   ],
   "source": [
    "dados_paises_covid.rename(columns={\"Province/State\": \"province\",\n",
    "                                   \"Country/Region\": \"country\"},\n",
    "                          inplace=True)"
   ]
  },
  {
   "cell_type": "code",
   "execution_count": 280,
   "metadata": {
    "executionInfo": {
     "elapsed": 3,
     "status": "ok",
     "timestamp": 1710845875485,
     "user": {
      "displayName": "Neto Alcides",
      "userId": "13364792603978952311"
     },
     "user_tz": 180
    },
    "id": "dL98RCsDS9Nf"
   },
   "outputs": [],
   "source": [
    "dados_paises_covid_dead.rename(columns={\"Province/State\": \"province\",\n",
    "                                        \"Country/Region\": \"country\"},\n",
    "                               inplace=True)"
   ]
  },
  {
   "cell_type": "code",
   "execution_count": 281,
   "metadata": {
    "colab": {
     "base_uri": "https://localhost:8080/"
    },
    "executionInfo": {
     "elapsed": 3,
     "status": "ok",
     "timestamp": 1710845875885,
     "user": {
      "displayName": "Neto Alcides",
      "userId": "13364792603978952311"
     },
     "user_tz": 180
    },
    "id": "C6QWe5tqS9Q_",
    "outputId": "87c4e6bc-387a-44bf-81c8-d092098bd2c4"
   },
   "outputs": [
    {
     "data": {
      "text/plain": [
       "Index(['province', 'country', 'Lat', 'Long', '1/22/20', '1/23/20', '1/24/20',\n",
       "       '1/25/20', '1/26/20', '1/27/20',\n",
       "       ...\n",
       "       '2/28/23', '3/1/23', '3/2/23', '3/3/23', '3/4/23', '3/5/23', '3/6/23',\n",
       "       '3/7/23', '3/8/23', '3/9/23'],\n",
       "      dtype='object', length=1147)"
      ]
     },
     "execution_count": 281,
     "metadata": {},
     "output_type": "execute_result"
    }
   ],
   "source": [
    "dados_paises_covid_dead.columns"
   ]
  },
  {
   "cell_type": "markdown",
   "metadata": {
    "id": "bIMzVm_0WBZH"
   },
   "source": [
    "- Reajustar dados"
   ]
  },
  {
   "cell_type": "code",
   "execution_count": 282,
   "metadata": {
    "executionInfo": {
     "elapsed": 3,
     "status": "ok",
     "timestamp": 1710845876294,
     "user": {
      "displayName": "Neto Alcides",
      "userId": "13364792603978952311"
     },
     "user_tz": 180
    },
    "id": "WknmgipES9V0"
   },
   "outputs": [],
   "source": [
    "dados_paises_covid = dados_paises_covid.melt(id_vars=['province', 'country', 'Lat', 'Long'],\n",
    "                                             var_name = 'date',\n",
    "                                             value_name = 'infected')"
   ]
  },
  {
   "cell_type": "code",
   "execution_count": 283,
   "metadata": {
    "executionInfo": {
     "elapsed": 2,
     "status": "ok",
     "timestamp": 1710845876652,
     "user": {
      "displayName": "Neto Alcides",
      "userId": "13364792603978952311"
     },
     "user_tz": 180
    },
    "id": "Hc-sV4zWS9aH"
   },
   "outputs": [],
   "source": [
    "dados_paises_covid_dead = dados_paises_covid_dead.melt(id_vars=['province', 'country', 'Lat', 'Long'],\n",
    "                                                       var_name = 'date',\n",
    "                                                       value_name = 'dead')"
   ]
  },
  {
   "cell_type": "code",
   "execution_count": 284,
   "metadata": {
    "colab": {
     "base_uri": "https://localhost:8080/",
     "height": 206
    },
    "executionInfo": {
     "elapsed": 4,
     "status": "ok",
     "timestamp": 1710845877171,
     "user": {
      "displayName": "Neto Alcides",
      "userId": "13364792603978952311"
     },
     "user_tz": 180
    },
    "id": "QX2EUqp0S9eT",
    "outputId": "e340c46f-09b6-47c7-835f-3ea9c244eb7d"
   },
   "outputs": [
    {
     "data": {
      "text/html": [
       "<div>\n",
       "<style scoped>\n",
       "    .dataframe tbody tr th:only-of-type {\n",
       "        vertical-align: middle;\n",
       "    }\n",
       "\n",
       "    .dataframe tbody tr th {\n",
       "        vertical-align: top;\n",
       "    }\n",
       "\n",
       "    .dataframe thead th {\n",
       "        text-align: right;\n",
       "    }\n",
       "</style>\n",
       "<table border=\"1\" class=\"dataframe\">\n",
       "  <thead>\n",
       "    <tr style=\"text-align: right;\">\n",
       "      <th></th>\n",
       "      <th>province</th>\n",
       "      <th>country</th>\n",
       "      <th>Lat</th>\n",
       "      <th>Long</th>\n",
       "      <th>date</th>\n",
       "      <th>dead</th>\n",
       "    </tr>\n",
       "  </thead>\n",
       "  <tbody>\n",
       "    <tr>\n",
       "      <th>330322</th>\n",
       "      <td>NaN</td>\n",
       "      <td>West Bank and Gaza</td>\n",
       "      <td>31.952200</td>\n",
       "      <td>35.233200</td>\n",
       "      <td>3/9/23</td>\n",
       "      <td>5708</td>\n",
       "    </tr>\n",
       "    <tr>\n",
       "      <th>330323</th>\n",
       "      <td>NaN</td>\n",
       "      <td>Winter Olympics 2022</td>\n",
       "      <td>39.904200</td>\n",
       "      <td>116.407400</td>\n",
       "      <td>3/9/23</td>\n",
       "      <td>0</td>\n",
       "    </tr>\n",
       "    <tr>\n",
       "      <th>330324</th>\n",
       "      <td>NaN</td>\n",
       "      <td>Yemen</td>\n",
       "      <td>15.552727</td>\n",
       "      <td>48.516388</td>\n",
       "      <td>3/9/23</td>\n",
       "      <td>2159</td>\n",
       "    </tr>\n",
       "    <tr>\n",
       "      <th>330325</th>\n",
       "      <td>NaN</td>\n",
       "      <td>Zambia</td>\n",
       "      <td>-13.133897</td>\n",
       "      <td>27.849332</td>\n",
       "      <td>3/9/23</td>\n",
       "      <td>4057</td>\n",
       "    </tr>\n",
       "    <tr>\n",
       "      <th>330326</th>\n",
       "      <td>NaN</td>\n",
       "      <td>Zimbabwe</td>\n",
       "      <td>-19.015438</td>\n",
       "      <td>29.154857</td>\n",
       "      <td>3/9/23</td>\n",
       "      <td>5671</td>\n",
       "    </tr>\n",
       "  </tbody>\n",
       "</table>\n",
       "</div>"
      ],
      "text/plain": [
       "       province               country        Lat        Long    date  dead\n",
       "330322      NaN    West Bank and Gaza  31.952200   35.233200  3/9/23  5708\n",
       "330323      NaN  Winter Olympics 2022  39.904200  116.407400  3/9/23     0\n",
       "330324      NaN                 Yemen  15.552727   48.516388  3/9/23  2159\n",
       "330325      NaN                Zambia -13.133897   27.849332  3/9/23  4057\n",
       "330326      NaN              Zimbabwe -19.015438   29.154857  3/9/23  5671"
      ]
     },
     "execution_count": 284,
     "metadata": {},
     "output_type": "execute_result"
    }
   ],
   "source": [
    "dados_paises_covid_dead.tail()"
   ]
  },
  {
   "cell_type": "code",
   "execution_count": 285,
   "metadata": {
    "colab": {
     "base_uri": "https://localhost:8080/"
    },
    "executionInfo": {
     "elapsed": 2,
     "status": "ok",
     "timestamp": 1710845877536,
     "user": {
      "displayName": "Neto Alcides",
      "userId": "13364792603978952311"
     },
     "user_tz": 180
    },
    "id": "QmpQK2_mWJi3",
    "outputId": "2b22a83c-8cef-4da0-d759-ce88ddeebb60"
   },
   "outputs": [
    {
     "data": {
      "text/plain": [
       "province     object\n",
       "country      object\n",
       "Lat         float64\n",
       "Long        float64\n",
       "date         object\n",
       "dead          int64\n",
       "dtype: object"
      ]
     },
     "execution_count": 285,
     "metadata": {},
     "output_type": "execute_result"
    }
   ],
   "source": [
    "dados_paises_covid_dead.dtypes"
   ]
  },
  {
   "cell_type": "markdown",
   "metadata": {
    "id": "AFvH-XFGS9ip"
   },
   "source": [
    "- Ajustar datas"
   ]
  },
  {
   "cell_type": "code",
   "execution_count": 286,
   "metadata": {
    "executionInfo": {
     "elapsed": 330,
     "status": "ok",
     "timestamp": 1710845878575,
     "user": {
      "displayName": "Neto Alcides",
      "userId": "13364792603978952311"
     },
     "user_tz": 180
    },
    "id": "2qHen0szS9nZ"
   },
   "outputs": [
    {
     "name": "stderr",
     "output_type": "stream",
     "text": [
      "C:\\Users\\zrkvi\\AppData\\Local\\Temp\\ipykernel_18308\\1364628153.py:1: UserWarning: Could not infer format, so each element will be parsed individually, falling back to `dateutil`. To ensure parsing is consistent and as-expected, please specify a format.\n",
      "  dados_paises_covid['date'] = pd.to_datetime(dados_paises_covid['date'])\n"
     ]
    }
   ],
   "source": [
    "dados_paises_covid['date'] = pd.to_datetime(dados_paises_covid['date'])"
   ]
  },
  {
   "cell_type": "code",
   "execution_count": 287,
   "metadata": {
    "executionInfo": {
     "elapsed": 291,
     "status": "ok",
     "timestamp": 1710845878864,
     "user": {
      "displayName": "Neto Alcides",
      "userId": "13364792603978952311"
     },
     "user_tz": 180
    },
    "id": "5hVb7IVeXIDn"
   },
   "outputs": [
    {
     "name": "stderr",
     "output_type": "stream",
     "text": [
      "C:\\Users\\zrkvi\\AppData\\Local\\Temp\\ipykernel_18308\\2926324975.py:1: UserWarning: Could not infer format, so each element will be parsed individually, falling back to `dateutil`. To ensure parsing is consistent and as-expected, please specify a format.\n",
      "  dados_paises_covid_dead['date'] = pd.to_datetime(dados_paises_covid_dead['date'])\n"
     ]
    }
   ],
   "source": [
    "dados_paises_covid_dead['date'] = pd.to_datetime(dados_paises_covid_dead['date'])"
   ]
  },
  {
   "cell_type": "code",
   "execution_count": 288,
   "metadata": {
    "colab": {
     "base_uri": "https://localhost:8080/",
     "height": 206
    },
    "executionInfo": {
     "elapsed": 5,
     "status": "ok",
     "timestamp": 1710845879432,
     "user": {
      "displayName": "Neto Alcides",
      "userId": "13364792603978952311"
     },
     "user_tz": 180
    },
    "id": "f78IaxkGXmbg",
    "outputId": "a6d12ed7-01e3-4136-954d-98ebf121eb15"
   },
   "outputs": [
    {
     "data": {
      "text/html": [
       "<div>\n",
       "<style scoped>\n",
       "    .dataframe tbody tr th:only-of-type {\n",
       "        vertical-align: middle;\n",
       "    }\n",
       "\n",
       "    .dataframe tbody tr th {\n",
       "        vertical-align: top;\n",
       "    }\n",
       "\n",
       "    .dataframe thead th {\n",
       "        text-align: right;\n",
       "    }\n",
       "</style>\n",
       "<table border=\"1\" class=\"dataframe\">\n",
       "  <thead>\n",
       "    <tr style=\"text-align: right;\">\n",
       "      <th></th>\n",
       "      <th>province</th>\n",
       "      <th>country</th>\n",
       "      <th>Lat</th>\n",
       "      <th>Long</th>\n",
       "      <th>date</th>\n",
       "      <th>infected</th>\n",
       "    </tr>\n",
       "  </thead>\n",
       "  <tbody>\n",
       "    <tr>\n",
       "      <th>320035</th>\n",
       "      <td>NaN</td>\n",
       "      <td>Venezuela</td>\n",
       "      <td>6.423800</td>\n",
       "      <td>-66.589700</td>\n",
       "      <td>2023-03-09</td>\n",
       "      <td>552162</td>\n",
       "    </tr>\n",
       "    <tr>\n",
       "      <th>320036</th>\n",
       "      <td>NaN</td>\n",
       "      <td>Vietnam</td>\n",
       "      <td>14.058324</td>\n",
       "      <td>108.277199</td>\n",
       "      <td>2023-03-09</td>\n",
       "      <td>11526994</td>\n",
       "    </tr>\n",
       "    <tr>\n",
       "      <th>320037</th>\n",
       "      <td>NaN</td>\n",
       "      <td>Yemen</td>\n",
       "      <td>15.552727</td>\n",
       "      <td>48.516388</td>\n",
       "      <td>2023-03-09</td>\n",
       "      <td>11945</td>\n",
       "    </tr>\n",
       "    <tr>\n",
       "      <th>320038</th>\n",
       "      <td>NaN</td>\n",
       "      <td>Zambia</td>\n",
       "      <td>-13.133897</td>\n",
       "      <td>27.849332</td>\n",
       "      <td>2023-03-09</td>\n",
       "      <td>343135</td>\n",
       "    </tr>\n",
       "    <tr>\n",
       "      <th>320039</th>\n",
       "      <td>NaN</td>\n",
       "      <td>Zimbabwe</td>\n",
       "      <td>-19.015438</td>\n",
       "      <td>29.154857</td>\n",
       "      <td>2023-03-09</td>\n",
       "      <td>264276</td>\n",
       "    </tr>\n",
       "  </tbody>\n",
       "</table>\n",
       "</div>"
      ],
      "text/plain": [
       "       province    country        Lat        Long       date  infected\n",
       "320035      NaN  Venezuela   6.423800  -66.589700 2023-03-09    552162\n",
       "320036      NaN    Vietnam  14.058324  108.277199 2023-03-09  11526994\n",
       "320037      NaN      Yemen  15.552727   48.516388 2023-03-09     11945\n",
       "320038      NaN     Zambia -13.133897   27.849332 2023-03-09    343135\n",
       "320039      NaN   Zimbabwe -19.015438   29.154857 2023-03-09    264276"
      ]
     },
     "execution_count": 288,
     "metadata": {},
     "output_type": "execute_result"
    }
   ],
   "source": [
    "dados_paises_covid.tail()"
   ]
  },
  {
   "cell_type": "code",
   "execution_count": 289,
   "metadata": {
    "colab": {
     "base_uri": "https://localhost:8080/",
     "height": 206
    },
    "executionInfo": {
     "elapsed": 3,
     "status": "ok",
     "timestamp": 1710845879997,
     "user": {
      "displayName": "Neto Alcides",
      "userId": "13364792603978952311"
     },
     "user_tz": 180
    },
    "id": "uvAjTBCJS9sA",
    "outputId": "99e50262-3a90-4fa0-8b56-1d7fe9872d43"
   },
   "outputs": [
    {
     "data": {
      "text/html": [
       "<div>\n",
       "<style scoped>\n",
       "    .dataframe tbody tr th:only-of-type {\n",
       "        vertical-align: middle;\n",
       "    }\n",
       "\n",
       "    .dataframe tbody tr th {\n",
       "        vertical-align: top;\n",
       "    }\n",
       "\n",
       "    .dataframe thead th {\n",
       "        text-align: right;\n",
       "    }\n",
       "</style>\n",
       "<table border=\"1\" class=\"dataframe\">\n",
       "  <thead>\n",
       "    <tr style=\"text-align: right;\">\n",
       "      <th></th>\n",
       "      <th>province</th>\n",
       "      <th>country</th>\n",
       "      <th>Lat</th>\n",
       "      <th>Long</th>\n",
       "      <th>date</th>\n",
       "      <th>dead</th>\n",
       "    </tr>\n",
       "  </thead>\n",
       "  <tbody>\n",
       "    <tr>\n",
       "      <th>330322</th>\n",
       "      <td>NaN</td>\n",
       "      <td>West Bank and Gaza</td>\n",
       "      <td>31.952200</td>\n",
       "      <td>35.233200</td>\n",
       "      <td>2023-03-09</td>\n",
       "      <td>5708</td>\n",
       "    </tr>\n",
       "    <tr>\n",
       "      <th>330323</th>\n",
       "      <td>NaN</td>\n",
       "      <td>Winter Olympics 2022</td>\n",
       "      <td>39.904200</td>\n",
       "      <td>116.407400</td>\n",
       "      <td>2023-03-09</td>\n",
       "      <td>0</td>\n",
       "    </tr>\n",
       "    <tr>\n",
       "      <th>330324</th>\n",
       "      <td>NaN</td>\n",
       "      <td>Yemen</td>\n",
       "      <td>15.552727</td>\n",
       "      <td>48.516388</td>\n",
       "      <td>2023-03-09</td>\n",
       "      <td>2159</td>\n",
       "    </tr>\n",
       "    <tr>\n",
       "      <th>330325</th>\n",
       "      <td>NaN</td>\n",
       "      <td>Zambia</td>\n",
       "      <td>-13.133897</td>\n",
       "      <td>27.849332</td>\n",
       "      <td>2023-03-09</td>\n",
       "      <td>4057</td>\n",
       "    </tr>\n",
       "    <tr>\n",
       "      <th>330326</th>\n",
       "      <td>NaN</td>\n",
       "      <td>Zimbabwe</td>\n",
       "      <td>-19.015438</td>\n",
       "      <td>29.154857</td>\n",
       "      <td>2023-03-09</td>\n",
       "      <td>5671</td>\n",
       "    </tr>\n",
       "  </tbody>\n",
       "</table>\n",
       "</div>"
      ],
      "text/plain": [
       "       province               country        Lat        Long       date  dead\n",
       "330322      NaN    West Bank and Gaza  31.952200   35.233200 2023-03-09  5708\n",
       "330323      NaN  Winter Olympics 2022  39.904200  116.407400 2023-03-09     0\n",
       "330324      NaN                 Yemen  15.552727   48.516388 2023-03-09  2159\n",
       "330325      NaN                Zambia -13.133897   27.849332 2023-03-09  4057\n",
       "330326      NaN              Zimbabwe -19.015438   29.154857 2023-03-09  5671"
      ]
     },
     "execution_count": 289,
     "metadata": {},
     "output_type": "execute_result"
    }
   ],
   "source": [
    "dados_paises_covid_dead.tail()"
   ]
  },
  {
   "cell_type": "code",
   "execution_count": 290,
   "metadata": {
    "colab": {
     "base_uri": "https://localhost:8080/"
    },
    "executionInfo": {
     "elapsed": 2,
     "status": "ok",
     "timestamp": 1710845880374,
     "user": {
      "displayName": "Neto Alcides",
      "userId": "13364792603978952311"
     },
     "user_tz": 180
    },
    "id": "F-7i7eqQehUo",
    "outputId": "0ccbc345-8318-4223-cae3-bb03ee53ea79"
   },
   "outputs": [
    {
     "data": {
      "text/plain": [
       "province            object\n",
       "country             object\n",
       "Lat                float64\n",
       "Long               float64\n",
       "date        datetime64[ns]\n",
       "dead                 int64\n",
       "dtype: object"
      ]
     },
     "execution_count": 290,
     "metadata": {},
     "output_type": "execute_result"
    }
   ],
   "source": [
    "dados_paises_covid_dead.dtypes"
   ]
  },
  {
   "cell_type": "markdown",
   "metadata": {
    "id": "D16RNZgTS9wJ"
   },
   "source": [
    "- Combinar os datasets"
   ]
  },
  {
   "cell_type": "code",
   "execution_count": 291,
   "metadata": {
    "colab": {
     "base_uri": "https://localhost:8080/"
    },
    "executionInfo": {
     "elapsed": 3,
     "status": "ok",
     "timestamp": 1710845881833,
     "user": {
      "displayName": "Neto Alcides",
      "userId": "13364792603978952311"
     },
     "user_tz": 180
    },
    "id": "f4zOkqqRXRd3",
    "outputId": "78babd6a-e8ab-42e5-c1ef-db7fa8f21b42"
   },
   "outputs": [
    {
     "data": {
      "text/plain": [
       "(320040, 6)"
      ]
     },
     "execution_count": 291,
     "metadata": {},
     "output_type": "execute_result"
    }
   ],
   "source": [
    "dados_paises_covid.shape"
   ]
  },
  {
   "cell_type": "code",
   "execution_count": 292,
   "metadata": {
    "colab": {
     "base_uri": "https://localhost:8080/"
    },
    "executionInfo": {
     "elapsed": 2,
     "status": "ok",
     "timestamp": 1710845882228,
     "user": {
      "displayName": "Neto Alcides",
      "userId": "13364792603978952311"
     },
     "user_tz": 180
    },
    "id": "X8OoawEVXRi7",
    "outputId": "bb3edbb2-1bcb-41b7-b639-09a55c2698d7"
   },
   "outputs": [
    {
     "data": {
      "text/plain": [
       "(330327, 6)"
      ]
     },
     "execution_count": 292,
     "metadata": {},
     "output_type": "execute_result"
    }
   ],
   "source": [
    "dados_paises_covid_dead.shape"
   ]
  },
  {
   "cell_type": "code",
   "execution_count": 293,
   "metadata": {
    "executionInfo": {
     "elapsed": 605,
     "status": "ok",
     "timestamp": 1710845883523,
     "user": {
      "displayName": "Neto Alcides",
      "userId": "13364792603978952311"
     },
     "user_tz": 180
    },
    "id": "vMV2x0qJXRnA"
   },
   "outputs": [],
   "source": [
    "dados_covid = pd.merge(dados_paises_covid, dados_paises_covid_dead,\n",
    "                       on = ['province', 'country',\t'Lat',\t'Long',\t'date'],\n",
    "                       how = 'inner')"
   ]
  },
  {
   "cell_type": "code",
   "execution_count": 294,
   "metadata": {
    "colab": {
     "base_uri": "https://localhost:8080/",
     "height": 206
    },
    "executionInfo": {
     "elapsed": 4,
     "status": "ok",
     "timestamp": 1710845883523,
     "user": {
      "displayName": "Neto Alcides",
      "userId": "13364792603978952311"
     },
     "user_tz": 180
    },
    "id": "q3De0qHYXRrY",
    "outputId": "a47df4de-b09e-4ecc-ea3d-bcd3e476b8ae"
   },
   "outputs": [
    {
     "data": {
      "text/html": [
       "<div>\n",
       "<style scoped>\n",
       "    .dataframe tbody tr th:only-of-type {\n",
       "        vertical-align: middle;\n",
       "    }\n",
       "\n",
       "    .dataframe tbody tr th {\n",
       "        vertical-align: top;\n",
       "    }\n",
       "\n",
       "    .dataframe thead th {\n",
       "        text-align: right;\n",
       "    }\n",
       "</style>\n",
       "<table border=\"1\" class=\"dataframe\">\n",
       "  <thead>\n",
       "    <tr style=\"text-align: right;\">\n",
       "      <th></th>\n",
       "      <th>province</th>\n",
       "      <th>country</th>\n",
       "      <th>Lat</th>\n",
       "      <th>Long</th>\n",
       "      <th>date</th>\n",
       "      <th>infected</th>\n",
       "      <th>dead</th>\n",
       "    </tr>\n",
       "  </thead>\n",
       "  <tbody>\n",
       "    <tr>\n",
       "      <th>0</th>\n",
       "      <td>NaN</td>\n",
       "      <td>Afghanistan</td>\n",
       "      <td>33.93911</td>\n",
       "      <td>67.709953</td>\n",
       "      <td>2020-01-22</td>\n",
       "      <td>0</td>\n",
       "      <td>0</td>\n",
       "    </tr>\n",
       "    <tr>\n",
       "      <th>1</th>\n",
       "      <td>NaN</td>\n",
       "      <td>Albania</td>\n",
       "      <td>41.15330</td>\n",
       "      <td>20.168300</td>\n",
       "      <td>2020-01-22</td>\n",
       "      <td>0</td>\n",
       "      <td>0</td>\n",
       "    </tr>\n",
       "    <tr>\n",
       "      <th>2</th>\n",
       "      <td>NaN</td>\n",
       "      <td>Algeria</td>\n",
       "      <td>28.03390</td>\n",
       "      <td>1.659600</td>\n",
       "      <td>2020-01-22</td>\n",
       "      <td>0</td>\n",
       "      <td>0</td>\n",
       "    </tr>\n",
       "    <tr>\n",
       "      <th>3</th>\n",
       "      <td>NaN</td>\n",
       "      <td>Andorra</td>\n",
       "      <td>42.50630</td>\n",
       "      <td>1.521800</td>\n",
       "      <td>2020-01-22</td>\n",
       "      <td>0</td>\n",
       "      <td>0</td>\n",
       "    </tr>\n",
       "    <tr>\n",
       "      <th>4</th>\n",
       "      <td>NaN</td>\n",
       "      <td>Angola</td>\n",
       "      <td>-11.20270</td>\n",
       "      <td>17.873900</td>\n",
       "      <td>2020-01-22</td>\n",
       "      <td>0</td>\n",
       "      <td>0</td>\n",
       "    </tr>\n",
       "  </tbody>\n",
       "</table>\n",
       "</div>"
      ],
      "text/plain": [
       "  province      country       Lat       Long       date  infected  dead\n",
       "0      NaN  Afghanistan  33.93911  67.709953 2020-01-22         0     0\n",
       "1      NaN      Albania  41.15330  20.168300 2020-01-22         0     0\n",
       "2      NaN      Algeria  28.03390   1.659600 2020-01-22         0     0\n",
       "3      NaN      Andorra  42.50630   1.521800 2020-01-22         0     0\n",
       "4      NaN       Angola -11.20270  17.873900 2020-01-22         0     0"
      ]
     },
     "execution_count": 294,
     "metadata": {},
     "output_type": "execute_result"
    }
   ],
   "source": [
    "dados_covid.head()"
   ]
  },
  {
   "cell_type": "code",
   "execution_count": 295,
   "metadata": {
    "colab": {
     "base_uri": "https://localhost:8080/"
    },
    "executionInfo": {
     "elapsed": 2,
     "status": "ok",
     "timestamp": 1710845883824,
     "user": {
      "displayName": "Neto Alcides",
      "userId": "13364792603978952311"
     },
     "user_tz": 180
    },
    "id": "ixhzuKJPIDzV",
    "outputId": "17ff4e57-42a2-4ada-a1d2-467d60ff9f55"
   },
   "outputs": [
    {
     "data": {
      "text/plain": [
       "(320040, 7)"
      ]
     },
     "execution_count": 295,
     "metadata": {},
     "output_type": "execute_result"
    }
   ],
   "source": [
    "dados_covid.shape"
   ]
  },
  {
   "cell_type": "markdown",
   "metadata": {
    "id": "FYba1y-bXRvH"
   },
   "source": [
    "## Aqui começa o trabalho"
   ]
  },
  {
   "cell_type": "markdown",
   "metadata": {
    "id": "25Myn6X976aD"
   },
   "source": [
    "## Questão 1"
   ]
  },
  {
   "cell_type": "code",
   "execution_count": 299,
   "metadata": {},
   "outputs": [
    {
     "name": "stdout",
     "output_type": "stream",
     "text": [
      "       province      country        Lat        Long       date  infected  \\\n",
      "0           NaN  Afghanistan  33.939110   67.709953 2020-01-22         0   \n",
      "1           NaN      Albania  41.153300   20.168300 2020-01-22         0   \n",
      "2           NaN      Algeria  28.033900    1.659600 2020-01-22         0   \n",
      "3           NaN      Andorra  42.506300    1.521800 2020-01-22         0   \n",
      "4           NaN       Angola -11.202700   17.873900 2020-01-22         0   \n",
      "...         ...          ...        ...         ...        ...       ...   \n",
      "320035      NaN    Venezuela   6.423800  -66.589700 2023-03-09    552162   \n",
      "320036      NaN      Vietnam  14.058324  108.277199 2023-03-09  11526994   \n",
      "320037      NaN        Yemen  15.552727   48.516388 2023-03-09     11945   \n",
      "320038      NaN       Zambia -13.133897   27.849332 2023-03-09    343135   \n",
      "320039      NaN     Zimbabwe -19.015438   29.154857 2023-03-09    264276   \n",
      "\n",
      "         dead  \n",
      "0           0  \n",
      "1           0  \n",
      "2           0  \n",
      "3           0  \n",
      "4           0  \n",
      "...       ...  \n",
      "320035   5854  \n",
      "320036  43186  \n",
      "320037   2159  \n",
      "320038   4057  \n",
      "320039   5671  \n",
      "\n",
      "[265176 rows x 7 columns]\n"
     ]
    },
    {
     "data": {
      "text/plain": [
       "159"
      ]
     },
     "execution_count": 299,
     "metadata": {},
     "output_type": "execute_result"
    }
   ],
   "source": [
    "dados_covid_filtrado = dados_covid[dados_covid['country'].isin(paises_validos)]\n",
    "print(dados_covid_filtrado)\n",
    "dados_covid_filtrado['country'].nunique()"
   ]
  },
  {
   "cell_type": "markdown",
   "metadata": {},
   "source": [
    "##### O total de paises validos são 159"
   ]
  },
  {
   "cell_type": "markdown",
   "metadata": {},
   "source": [
    "# Questão 2"
   ]
  },
  {
   "cell_type": "code",
   "execution_count": 300,
   "metadata": {},
   "outputs": [
    {
     "name": "stdout",
     "output_type": "stream",
     "text": [
      "       province country     Lat     Long       date  infected    dead\n",
      "319790      NaN  Brazil -14.235 -51.9253 2023-03-09  37076053  699276\n"
     ]
    }
   ],
   "source": [
    "dados_covid_brasil = dados_covid_filtrado[dados_covid_filtrado['country'] == \"Brazil\"]\n",
    "\n",
    "# print(dados_covid_brasil)\n",
    "# No caso do Brazil, nãoi a diferença por provincia e todo dado é de um novo dia. logo só preciso pegar o ultimo\n",
    "\n",
    "maximo_brasil = (max(dados_covid_brasil['date']))\n",
    "print(dados_covid_brasil[dados_covid_brasil['date'] == maximo_brasil ])"
   ]
  },
  {
   "cell_type": "code",
   "execution_count": 301,
   "metadata": {},
   "outputs": [
    {
     "name": "stdout",
     "output_type": "stream",
     "text": [
      "       province country       Lat      Long       date  infected    dead\n",
      "319911      NaN   Italy  41.87194  12.56738 2023-03-09  25603510  188322\n"
     ]
    }
   ],
   "source": [
    "dados_covid_italia = dados_covid_filtrado[dados_covid_filtrado['country'] == \"Italy\"]\n",
    "\n",
    "# print(dados_covid_italia)\n",
    "# Mesmo caso para italia\n",
    "\n",
    "maximo_italia = (max(dados_covid_italia['date']))\n",
    "print(dados_covid_italia[dados_covid_italia['date'] == maximo_italia ])"
   ]
  },
  {
   "cell_type": "code",
   "execution_count": 302,
   "metadata": {},
   "outputs": [
    {
     "name": "stdout",
     "output_type": "stream",
     "text": [
      "       province country   Lat   Long       date   infected     dead\n",
      "320013      NaN      US  40.0 -100.0 2023-03-09  103802702  1123836\n"
     ]
    }
   ],
   "source": [
    "dados_covid_us = dados_covid_filtrado[dados_covid_filtrado['country'] == \"US\"]\n",
    "\n",
    "# print(dados_covid_italia)\n",
    "# Mesmo caso para italia\n",
    "\n",
    "maximo_us = (max(dados_covid_us['date']))\n",
    "print(dados_covid_us[dados_covid_us['date'] == maximo_us ])"
   ]
  },
  {
   "cell_type": "markdown",
   "metadata": {},
   "source": [
    "#### O total de casos de infecção são:\n",
    "\n",
    "Brasil = 37076053 \n",
    "Italia = 25603510\n",
    "Us = 103802702"
   ]
  },
  {
   "cell_type": "markdown",
   "metadata": {},
   "source": [
    "# Questão 3\n",
    " "
   ]
  },
  {
   "cell_type": "code",
   "execution_count": 303,
   "metadata": {},
   "outputs": [
    {
     "name": "stdout",
     "output_type": "stream",
     "text": [
      "2023-03-09 00:00:00\n"
     ]
    },
    {
     "name": "stderr",
     "output_type": "stream",
     "text": [
      "C:\\Users\\zrkvi\\AppData\\Local\\Temp\\ipykernel_18308\\2033665563.py:6: FutureWarning: The behavior of 'isin' with dtype=datetime64[ns] and castable values (e.g. strings) is deprecated. In a future version, these will not be considered matching by isin. Explicitly cast to the appropriate dtype before calling isin instead.\n",
      "  dados_covid_filtrado_2 = dados_covid_filtrado[dados_covid_filtrado['date'].isin(valor_data)]\n"
     ]
    }
   ],
   "source": [
    "# # limpas o df só com as data mais recente\n",
    "\n",
    "maximo_df = (max(dados_covid_filtrado['date']))\n",
    "print(maximo_df)\n",
    "valor_data = [\"2023-03-09 00:00:00\"] # pura gambiarra\n",
    "dados_covid_filtrado_2 = dados_covid_filtrado[dados_covid_filtrado['date'].isin(valor_data)]\n",
    "\n",
    "# print(dados_covid_filtrado_2)\n",
    "# dados_covid_filtrado_2['country'].nunique()\n"
   ]
  },
  {
   "cell_type": "markdown",
   "metadata": {},
   "source": [
    "# Questão 4"
   ]
  },
  {
   "cell_type": "code",
   "execution_count": 304,
   "metadata": {},
   "outputs": [
    {
     "name": "stdout",
     "output_type": "stream",
     "text": [
      "       province      country        Lat        Long       date  infected  \\\n",
      "319760      NaN  Afghanistan  33.939110   67.709953 2023-03-09    209451   \n",
      "319761      NaN      Albania  41.153300   20.168300 2023-03-09    334457   \n",
      "319762      NaN      Algeria  28.033900    1.659600 2023-03-09    271496   \n",
      "319763      NaN      Andorra  42.506300    1.521800 2023-03-09     47890   \n",
      "319764      NaN       Angola -11.202700   17.873900 2023-03-09    105288   \n",
      "...         ...          ...        ...         ...        ...       ...   \n",
      "320035      NaN    Venezuela   6.423800  -66.589700 2023-03-09    552162   \n",
      "320036      NaN      Vietnam  14.058324  108.277199 2023-03-09  11526994   \n",
      "320037      NaN        Yemen  15.552727   48.516388 2023-03-09     11945   \n",
      "320038      NaN       Zambia -13.133897   27.849332 2023-03-09    343135   \n",
      "320039      NaN     Zimbabwe -19.015438   29.154857 2023-03-09    264276   \n",
      "\n",
      "         dead  mortality_rate  \n",
      "319760   7896        0.037699  \n",
      "319761   3598        0.010758  \n",
      "319762   6881        0.025345  \n",
      "319763    165        0.003445  \n",
      "319764   1933        0.018359  \n",
      "...       ...             ...  \n",
      "320035   5854        0.010602  \n",
      "320036  43186        0.003747  \n",
      "320037   2159        0.180745  \n",
      "320038   4057        0.011823  \n",
      "320039   5671        0.021459  \n",
      "\n",
      "[232 rows x 8 columns]\n"
     ]
    },
    {
     "name": "stderr",
     "output_type": "stream",
     "text": [
      "C:\\Users\\zrkvi\\AppData\\Local\\Temp\\ipykernel_18308\\3070830958.py:1: SettingWithCopyWarning: \n",
      "A value is trying to be set on a copy of a slice from a DataFrame.\n",
      "Try using .loc[row_indexer,col_indexer] = value instead\n",
      "\n",
      "See the caveats in the documentation: https://pandas.pydata.org/pandas-docs/stable/user_guide/indexing.html#returning-a-view-versus-a-copy\n",
      "  dados_covid_filtrado_2['mortality_rate'] = dados_covid_filtrado_2.dead / dados_covid_filtrado_2.infected\n"
     ]
    }
   ],
   "source": [
    "dados_covid_filtrado_2['mortality_rate'] = dados_covid_filtrado_2.dead / dados_covid_filtrado_2.infected\n",
    "print(dados_covid_filtrado_2)\n",
    "\n"
   ]
  },
  {
   "cell_type": "markdown",
   "metadata": {},
   "source": [
    "a taxa de mortalidade da forma que foi calculada é uma péssima métrica, pois torna os valores muito pequenos. isso não causiria pânico algum durante a covid"
   ]
  },
  {
   "cell_type": "markdown",
   "metadata": {},
   "source": [
    "# Questão 5"
   ]
  }
 ],
 "metadata": {
  "colab": {
   "authorship_tag": "ABX9TyOe6xr72cvq0VFtLNQ0S5vT",
   "provenance": []
  },
  "kernelspec": {
   "display_name": "Python 3",
   "name": "python3"
  },
  "language_info": {
   "codemirror_mode": {
    "name": "ipython",
    "version": 3
   },
   "file_extension": ".py",
   "mimetype": "text/x-python",
   "name": "python",
   "nbconvert_exporter": "python",
   "pygments_lexer": "ipython3",
   "version": "3.13.2"
  }
 },
 "nbformat": 4,
 "nbformat_minor": 0
}
